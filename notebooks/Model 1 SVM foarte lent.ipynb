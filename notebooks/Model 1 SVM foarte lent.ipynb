{
 "cells": [
  {
   "cell_type": "markdown",
   "id": "d0f0ee39",
   "metadata": {},
   "source": [
    "# CE3 Project: Predicting Unemployment in Romania (2010-2013)\n",
    "### Using Machine Learning Models: SVM and Neural Networks\n",
    "**Objective**: Model the probability that a respondent is unemployed (`ILOSTAT == 2`) based on socio-demographic and occupational variables.\n",
    "Data Source: EU Labour Force Survey (Romania, 2010-2013)"
   ]
  },
  {
   "cell_type": "code",
   "execution_count": null,
   "id": "94ed35b1",
   "metadata": {},
   "outputs": [],
   "source": [
    "import pandas as pd\n",
    "\n",
    "# Load and concatenate data\n",
    "dfs = []\n",
    "for year in range(2010, 2014):\n",
    "    df = pd.read_csv(f'../data/raw/RO_LFS_{year}_Y.csv', low_memory=False)\n",
    "    df['YEAR'] = year\n",
    "    dfs.append(df)\n",
    "\n",
    "data = pd.concat(dfs, ignore_index=True)\n",
    "data.head()"
   ]
  },
  {
   "cell_type": "code",
   "execution_count": null,
   "id": "986ff308",
   "metadata": {},
   "outputs": [],
   "source": [
    "# Final list of usable columns based on actual data\n",
    "#selected_vars = ['AGE', 'SEX', 'HATLEV1D', 'DEGURBA', 'NACE1D', 'ISCO1D', 'DURUNE', 'ILOSTAT']\n",
    "#selected_vars = ['AGE', 'SEX', 'HATLEV1D', 'DEGURBA', 'NACE1D', 'ISCO1D', 'ILOSTAT']\n",
    "selected_vars = [\n",
    "    'AGE',\n",
    "    'SEX',\n",
    "    'DEGURBA',\n",
    "    'COUNTRPR',\n",
    "    'YEARESID',\n",
    "    'HATLEV1D',\n",
    "    'NACE1D',\n",
    "    'ISCO1D',\n",
    "    'NUMJOB',\n",
    "]\n",
    "\n",
    "data = data[selected_vars + ['YEAR']]\n",
    "data = data[data['ILOSTAT'].notna()]\n",
    "data['TARGET'] = (data['ILOSTAT'] == 2).astype(int)\n",
    "data = data.dropna()\n",
    "data.head()"
   ]
  },
  {
   "cell_type": "code",
   "execution_count": null,
   "id": "060e2521",
   "metadata": {},
   "outputs": [],
   "source": [
    "from sklearn.preprocessing import LabelEncoder\n",
    "\n",
    "cat_vars = ['SEX', 'HATLEV1D', 'DEGURBA', 'NACE1D', 'ISCO1D']\n",
    "for var in cat_vars:\n",
    "    le = LabelEncoder()\n",
    "    data[var] = le.fit_transform(data[var].astype(str))\n",
    "data.head()"
   ]
  },
  {
   "cell_type": "code",
   "execution_count": null,
   "id": "22a38dfc",
   "metadata": {},
   "outputs": [],
   "source": [
    "from sklearn.feature_selection import RFE\n",
    "from sklearn.svm import SVC\n",
    "\n",
    "X = data.drop(columns=['ILOSTAT', 'TARGET'])\n",
    "y = data['TARGET']\n",
    "\n",
    "svm = SVC(kernel='linear')\n",
    "rfe = RFE(svm, n_features_to_select=12)\n",
    "X_rfe = rfe.fit_transform(X, y)\n",
    "selected_features = X.columns[rfe.support_].tolist()\n",
    "selected_features"
   ]
  },
  {
   "cell_type": "code",
   "execution_count": null,
   "id": "a403dd1a",
   "metadata": {},
   "outputs": [],
   "source": [
    "from sklearn.model_selection import train_test_split\n",
    "from sklearn.preprocessing import MinMaxScaler\n",
    "\n",
    "X_train, X_test, y_train, y_test = train_test_split(\n",
    "    data[selected_features], y, test_size=0.3, random_state=42, stratify=y\n",
    ")\n",
    "\n",
    "scaler = MinMaxScaler()\n",
    "X_train_scaled = scaler.fit_transform(X_train)\n",
    "X_test_scaled = scaler.transform(X_test)"
   ]
  },
  {
   "cell_type": "code",
   "execution_count": null,
   "id": "bca71bb1",
   "metadata": {},
   "outputs": [],
   "source": [
    "svm = SVC(C=10, gamma=0.01, kernel='rbf', probability=True)\n",
    "svm.fit(X_train_scaled, y_train)\n",
    "svm_preds = svm.predict(X_test_scaled)\n",
    "svm_probs = svm.predict_proba(X_test_scaled)[:, 1]"
   ]
  },
  {
   "cell_type": "code",
   "execution_count": null,
   "id": "51d99053",
   "metadata": {},
   "outputs": [],
   "source": [
    "from tensorflow.keras.models import Sequential\n",
    "from tensorflow.keras.layers import Dense, Dropout\n",
    "from tensorflow.keras.callbacks import EarlyStopping\n",
    "from tensorflow.keras.optimizers import Adam\n",
    "\n",
    "model = Sequential([\n",
    "    Dense(128, activation='relu', input_shape=(X_train_scaled.shape[1],)),\n",
    "    Dropout(0.3),\n",
    "    Dense(64, activation='relu'),\n",
    "    Dropout(0.3),\n",
    "    Dense(32, activation='relu'),\n",
    "    Dropout(0.3),\n",
    "    Dense(1, activation='sigmoid')\n",
    "])\n",
    "\n",
    "model.compile(optimizer=Adam(learning_rate=0.001), loss='binary_crossentropy', metrics=['accuracy'])\n",
    "early_stopping = EarlyStopping(patience=20, restore_best_weights=True)\n",
    "\n",
    "model.fit(X_train_scaled, y_train, epochs=200, batch_size=32, validation_split=0.2, callbacks=[early_stopping])\n",
    "nn_probs = model.predict(X_test_scaled).flatten()"
   ]
  },
  {
   "cell_type": "code",
   "execution_count": null,
   "id": "b38375e3",
   "metadata": {},
   "outputs": [],
   "source": [
    "from sklearn.metrics import classification_report, confusion_matrix, precision_score, recall_score, f1_score, roc_auc_score, roc_curve\n",
    "import matplotlib.pyplot as plt\n",
    "\n",
    "def evaluate_model(y_true, y_pred, y_probs, name=\"Model\"):\n",
    "    print(f\"\\n{name} Metrics\")\n",
    "    print(\"Precision:\", precision_score(y_true, y_pred))\n",
    "    print(\"Recall:\", recall_score(y_true, y_pred))\n",
    "    print(\"F1-score:\", f1_score(y_true, y_pred))\n",
    "    print(\"ROC AUC:\", roc_auc_score(y_true, y_probs))\n",
    "    print(\"Confusion Matrix:\\n\", confusion_matrix(y_true, y_pred))\n",
    "\n",
    "    fpr, tpr, _ = roc_curve(y_true, y_probs)\n",
    "    plt.plot(fpr, tpr, label=f'{name} (AUC = {roc_auc_score(y_true, y_probs):.2f})')\n",
    "    plt.xlabel(\"False Positive Rate\")\n",
    "    plt.ylabel(\"True Positive Rate\")\n",
    "    plt.title(\"ROC Curve\")\n",
    "    plt.legend()\n",
    "\n",
    "evaluate_model(y_test, svm_preds, svm_probs, \"SVM\")\n",
    "evaluate_model(y_test, (nn_probs > 0.5).astype(int), nn_probs, \"Neural Net\")\n",
    "plt.show()"
   ]
  },
  {
   "cell_type": "markdown",
   "id": "63443647",
   "metadata": {},
   "source": [
    "## Next Steps\n",
    "- Fill in the poster template using the results\n",
    "- Highlight key variables with the strongest correlation to unemployment\n",
    "- Formulate 2–3 public policy recommendations based on findings"
   ]
  }
 ],
 "metadata": {
  "kernelspec": {
   "display_name": "Python 3.12.3 ('venv': venv)",
   "language": "python",
   "name": "python3"
  },
  "language_info": {
   "codemirror_mode": {
    "name": "ipython",
    "version": 3
   },
   "file_extension": ".py",
   "mimetype": "text/x-python",
   "name": "python",
   "nbconvert_exporter": "python",
   "pygments_lexer": "ipython3",
   "version": "3.12.3"
  },
  "vscode": {
   "interpreter": {
    "hash": "cdfef2a8acc8cf6c00707c0ec39a06cee3f87b212d03adfc5b1281ed1419e7eb"
   }
  }
 },
 "nbformat": 4,
 "nbformat_minor": 5
}
